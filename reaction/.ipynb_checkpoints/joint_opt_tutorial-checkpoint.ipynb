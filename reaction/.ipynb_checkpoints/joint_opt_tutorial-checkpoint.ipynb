{
 "cells": [
  {
   "cell_type": "markdown",
   "id": "ea9f3be4-6336-462b-88a4-6b1a43dadf35",
   "metadata": {},
   "source": [
    "This notebook is using a Diels-Alder reaction to show how we generate reaction conformers."
   ]
  },
  {
   "cell_type": "code",
   "execution_count": 16,
   "id": "c0643073-f8f6-41f2-ac74-d8747f6dcdce",
   "metadata": {},
   "outputs": [
    {
     "ename": "NameError",
     "evalue": "name 'read_rxns' is not defined",
     "output_type": "error",
     "traceback": [
      "\u001b[0;31m---------------------------------------------------------------------------\u001b[0m",
      "\u001b[0;31mNameError\u001b[0m                                 Traceback (most recent call last)",
      "Cell \u001b[0;32mIn[16], line 7\u001b[0m\n\u001b[1;32m      5\u001b[0m \u001b[38;5;66;03m# Read in a reaction geometry from ethene and 1,3-buta-diene to cyclohexane.\u001b[39;00m\n\u001b[1;32m      6\u001b[0m \u001b[38;5;28;01mfrom\u001b[39;00m \u001b[38;5;21;01mreaction\u001b[39;00m\u001b[38;5;21;01m.\u001b[39;00m\u001b[38;5;21;01mwrappers\u001b[39;00m \u001b[38;5;28;01mimport\u001b[39;00m \u001b[38;5;241m*\u001b[39m\n\u001b[0;32m----> 7\u001b[0m rxn\u001b[38;5;241m=\u001b[39m\u001b[43mread_rxns\u001b[49m(\u001b[38;5;124m\"\u001b[39m\u001b[38;5;124mDA.xyz\u001b[39m\u001b[38;5;124m\"\u001b[39m)\n",
      "\u001b[0;31mNameError\u001b[0m: name 'read_rxns' is not defined"
     ]
    }
   ],
   "source": [
    "import sys, os\n",
    "import yarp as yp\n",
    "sys.path.append('../')\n",
    "from reaction import *\n",
    "# Read in a reaction geometry from ethene and 1,3-buta-diene to cyclohexane.\n",
    "from reaction.wrappers import *\n",
    "rxn=read_rxns(\"DA.xyz\")"
   ]
  },
  {
   "cell_type": "code",
   "execution_count": null,
   "id": "f06751d4-ac60-459b-8610-649b93cd09d6",
   "metadata": {},
   "outputs": [],
   "source": []
  },
  {
   "cell_type": "code",
   "execution_count": null,
   "id": "5be01d4d-4ed9-4f77-9b0b-ed4ecc7f4616",
   "metadata": {},
   "outputs": [],
   "source": []
  }
 ],
 "metadata": {
  "kernelspec": {
   "display_name": "Python 3 (ipykernel)",
   "language": "python",
   "name": "python3"
  },
  "language_info": {
   "codemirror_mode": {
    "name": "ipython",
    "version": 3
   },
   "file_extension": ".py",
   "mimetype": "text/x-python",
   "name": "python",
   "nbconvert_exporter": "python",
   "pygments_lexer": "ipython3",
   "version": "3.8.15"
  }
 },
 "nbformat": 4,
 "nbformat_minor": 5
}
