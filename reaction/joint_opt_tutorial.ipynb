{
 "cells": [
  {
   "cell_type": "markdown",
   "id": "ea9f3be4-6336-462b-88a4-6b1a43dadf35",
   "metadata": {},
   "source": [
    "This notebook is created by Hsuan-Hao Hsu (hsu205@purdue.edu). In this notebook, we will show how to install and run yarp by a simple example (Diels-Alder reaction)."
   ]
  },
  {
   "cell_type": "markdown",
   "id": "81ac06e3-d1f5-45b5-b4c9-02308d5ed5a0",
   "metadata": {},
   "source": [
    "# Installation\n",
    "First, MacOSX and Linux systems are recommended operating systems for classy-yarp. Anaconda3 will be used to create the environment for classy-yarp. As you git clone classy-yarp, install classy-yarp by:"
   ]
  },
  {
   "cell_type": "code",
   "execution_count": 1,
   "id": "8bc17d9e-d334-44a4-8d94-04d47f10a4f1",
   "metadata": {},
   "outputs": [
    {
     "name": "stdout",
     "output_type": "stream",
     "text": [
      "bash: cd: yarp: No such file or directory\n",
      "\n",
      "EnvironmentFileNotFound: '/Users/hsu205/github/classy-yarp/reaction/env.yaml' file not found\n",
      "\n"
     ]
    },
    {
     "ename": "",
     "evalue": "1",
     "output_type": "error",
     "traceback": []
    }
   ],
   "source": [
    "conda env create -f env.yaml"
   ]
  },
  {
   "cell_type": "markdown",
   "id": "dbf13290-ff2c-4641-ac83-43b59e70aad6",
   "metadata": {},
   "source": [
    "As you run this command in the main folder, the environment for yarp has been created, including xTB, CREST, and pysis. Now, we need to install yarp package by:"
   ]
  },
  {
   "cell_type": "code",
   "execution_count": null,
   "id": "19b6420d-5c4b-40f6-bf3c-d109bde641a7",
   "metadata": {},
   "outputs": [],
   "source": [
    "pip install ."
   ]
  },
  {
   "cell_type": "markdown",
   "id": "e9c93754-8729-4aa3-b195-62b8405c28d5",
   "metadata": {},
   "source": [
    "Now, classy-yarp is available for your system. Next step is to create the command file for pysis."
   ]
  },
  {
   "cell_type": "code",
   "execution_count": null,
   "id": "1bf78745-83c8-497b-b223-68a8a4295e62",
   "metadata": {},
   "outputs": [],
   "source": [
    "vi ~/.pysisyphusrc"
   ]
  },
  {
   "cell_type": "markdown",
   "id": "da118c03-846b-410a-99a6-8e766be805c5",
   "metadata": {},
   "source": [
    "Now you should create a file called .pysisyphusrc. In this file, we need to give the bin for xTB or other DFT calculation softwares. For this notebook, xTB is selected as an example. In this file, please type:"
   ]
  },
  {
   "cell_type": "code",
   "execution_count": null,
   "id": "41824133-20b0-4ea8-b252-4713267dd23f",
   "metadata": {},
   "outputs": [],
   "source": [
    "[xtb]                                                                                                                                                                                                 \n",
    "cmd=xtb"
   ]
  },
  {
   "cell_type": "code",
   "execution_count": null,
   "id": "1273ebc3-e898-475f-99c0-5759b75a49bd",
   "metadata": {},
   "outputs": [],
   "source": [
    "Then, save and quit!"
   ]
  },
  {
   "cell_type": "markdown",
   "id": "6b5dee99-52ae-4f05-8a62-71cd979d9d87",
   "metadata": {},
   "source": [
    "# How to Run Classy-yarp\n",
    "For running classy-yarp, please enter reaction directory by:"
   ]
  },
  {
   "cell_type": "code",
   "execution_count": null,
   "id": "9037b690-adf6-40af-8bff-0b26b63d4199",
   "metadata": {},
   "outputs": [],
   "source": [
    "cd reaction"
   ]
  },
  {
   "cell_type": "markdown",
   "id": "6c55f383-fb9e-4968-8b94-99e9c505add3",
   "metadata": {},
   "source": [
    "The following example you can check our github and main_xtb.py to see the details!"
   ]
  },
  {
   "cell_type": "code",
   "execution_count": null,
   "id": "c0643073-f8f6-41f2-ac74-d8747f6dcdce",
   "metadata": {},
   "outputs": [],
   "source": [
    "import sys, os, yaml\n",
    "import yarp as yp\n",
    "from main_xtb import *\n",
    "# Read in a reaction geometry from ethene and 1,3-buta-diene to cyclohexane.\n",
    "from wrappers.reaction import *\n",
    "parameters=yaml.load(open(parameters, \"r\"), Loader=yaml.FullLoader)\n",
    "args, logger, logging_queue = initialize(parameters)\n",
    "rxn=[]\n",
    "rxn.append(read_rxns(\"reaction_xyz/DA.xyz\", args=args))"
   ]
  },
  {
   "cell_type": "markdown",
   "id": "f4a2ce2f-45d7-43fc-8de1-5954c3e04367",
   "metadata": {},
   "source": [
    "If you miss some packages, just try \"pip install [package name]\""
   ]
  },
  {
   "cell_type": "code",
   "execution_count": null,
   "id": "b5847200-9bbf-4fdd-833b-fe6df834e60a",
   "metadata": {},
   "outputs": [],
   "source": [
    "# Generate conformers by crest\n",
    "rxn=conf_by_crest(rxn, logging_queue, logger)"
   ]
  },
  {
   "cell_type": "code",
   "execution_count": null,
   "id": "0cab3b38-f544-475a-868b-7e84b104100e",
   "metadata": {},
   "outputs": [],
   "source": [
    "# select reaction conformers\n",
    "rxn=select_rxn_conf(rxn, logging_queue)"
   ]
  },
  {
   "cell_type": "markdown",
   "id": "50e7e62a-c7ed-40ea-8e49-a4a72dd14e88",
   "metadata": {},
   "source": [
    "Homework: \n",
    "1. check the parameter file and understand the settings on github!\n",
    "2. Use Avogadro to check how I set an input reaction! (atom mapping matters!)\n",
    "3. Try to run enumeration on your target molecule.\n",
    "4. Find reaction conformers for your system!"
   ]
  },
  {
   "cell_type": "code",
   "execution_count": null,
   "id": "a4b5bdbd-774b-423c-845e-9da860e84f28",
   "metadata": {},
   "outputs": [],
   "source": []
  }
 ],
 "metadata": {
  "kernelspec": {
   "display_name": "Bash",
   "language": "bash",
   "name": "bash"
  },
  "language_info": {
   "codemirror_mode": "shell",
   "file_extension": ".sh",
   "mimetype": "text/x-sh",
   "name": "bash"
  }
 },
 "nbformat": 4,
 "nbformat_minor": 5
}
