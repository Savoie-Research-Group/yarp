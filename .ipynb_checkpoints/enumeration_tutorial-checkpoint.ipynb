{
 "cells": [
  {
   "cell_type": "markdown",
   "id": "c139fa5e-0cdb-40c2-a588-554a4044c598",
   "metadata": {},
   "source": [
    "This notebook is created by Hsuan-Hao Hsu (hsu205@purdue.edu) and aims to show how to do product eneumeration on n-hexane."
   ]
  },
  {
   "cell_type": "markdown",
   "id": "d77b0bfc-1a89-4b86-93d7-b0c24d9eaf9e",
   "metadata": {},
   "source": [
    "First step is to import the yarp package"
   ]
  },
  {
   "cell_type": "code",
   "execution_count": 1,
   "id": "b17d2a15-b4b5-4601-a8cd-72df558d4e6f",
   "metadata": {},
   "outputs": [],
   "source": [
    "import yarp as yp"
   ]
  },
  {
   "cell_type": "markdown",
   "id": "2214d67e-2596-4af6-b4ae-79b536e7a5ba",
   "metadata": {},
   "source": [
    "Then, you need to create the molecule. In this notebook, n-hexane is used. The geometry of n-hexane is named as n_hex.xyz in the folder."
   ]
  },
  {
   "cell_type": "code",
   "execution_count": 2,
   "id": "bcec9414-9f32-4f93-b0ee-a21ba0a1f72c",
   "metadata": {},
   "outputs": [],
   "source": [
    "reactant=yp.yarpecule(\"n_hex.xyz\")"
   ]
  },
  {
   "cell_type": "markdown",
   "id": "55c71b8e-0284-4ea6-8f38-472ecf021b65",
   "metadata": {},
   "source": [
    "Now, yarpecule has read n-hexane and find bond-electron matrix. Let's check it!"
   ]
  },
  {
   "cell_type": "code",
   "execution_count": 3,
   "id": "79b7390f-4f82-4901-a7f4-e2823113a433",
   "metadata": {},
   "outputs": [
    {
     "name": "stdout",
     "output_type": "stream",
     "text": [
      "bond-electron matrix\n",
      "c [0. 1. 1. 0. 0. 0. 1. 1. 0. 0. 0. 0. 0. 0. 0. 0. 0. 0. 0. 0.]\n",
      "c [1. 0. 0. 1. 0. 0. 0. 0. 1. 1. 0. 0. 0. 0. 0. 0. 0. 0. 0. 0.]\n",
      "c [1. 0. 0. 0. 1. 0. 0. 0. 0. 0. 1. 1. 0. 0. 0. 0. 0. 0. 0. 0.]\n",
      "c [0. 1. 0. 0. 0. 1. 0. 0. 0. 0. 0. 0. 1. 1. 0. 0. 0. 0. 0. 0.]\n",
      "c [0. 0. 1. 0. 0. 0. 0. 0. 0. 0. 0. 0. 0. 0. 1. 1. 1. 0. 0. 0.]\n",
      "c [0. 0. 0. 1. 0. 0. 0. 0. 0. 0. 0. 0. 0. 0. 0. 0. 0. 1. 1. 1.]\n",
      "h [1. 0. 0. 0. 0. 0. 0. 0. 0. 0. 0. 0. 0. 0. 0. 0. 0. 0. 0. 0.]\n",
      "h [1. 0. 0. 0. 0. 0. 0. 0. 0. 0. 0. 0. 0. 0. 0. 0. 0. 0. 0. 0.]\n",
      "h [0. 1. 0. 0. 0. 0. 0. 0. 0. 0. 0. 0. 0. 0. 0. 0. 0. 0. 0. 0.]\n",
      "h [0. 1. 0. 0. 0. 0. 0. 0. 0. 0. 0. 0. 0. 0. 0. 0. 0. 0. 0. 0.]\n",
      "h [0. 0. 1. 0. 0. 0. 0. 0. 0. 0. 0. 0. 0. 0. 0. 0. 0. 0. 0. 0.]\n",
      "h [0. 0. 1. 0. 0. 0. 0. 0. 0. 0. 0. 0. 0. 0. 0. 0. 0. 0. 0. 0.]\n",
      "h [0. 0. 0. 1. 0. 0. 0. 0. 0. 0. 0. 0. 0. 0. 0. 0. 0. 0. 0. 0.]\n",
      "h [0. 0. 0. 1. 0. 0. 0. 0. 0. 0. 0. 0. 0. 0. 0. 0. 0. 0. 0. 0.]\n",
      "h [0. 0. 0. 0. 1. 0. 0. 0. 0. 0. 0. 0. 0. 0. 0. 0. 0. 0. 0. 0.]\n",
      "h [0. 0. 0. 0. 1. 0. 0. 0. 0. 0. 0. 0. 0. 0. 0. 0. 0. 0. 0. 0.]\n",
      "h [0. 0. 0. 0. 1. 0. 0. 0. 0. 0. 0. 0. 0. 0. 0. 0. 0. 0. 0. 0.]\n",
      "h [0. 0. 0. 0. 0. 1. 0. 0. 0. 0. 0. 0. 0. 0. 0. 0. 0. 0. 0. 0.]\n",
      "h [0. 0. 0. 0. 0. 1. 0. 0. 0. 0. 0. 0. 0. 0. 0. 0. 0. 0. 0. 0.]\n",
      "h [0. 0. 0. 0. 0. 1. 0. 0. 0. 0. 0. 0. 0. 0. 0. 0. 0. 0. 0. 0.]\n"
     ]
    }
   ],
   "source": [
    "print(\"bond-electron matrix\")\n",
    "for count_i, i in enumerate(reactant.elements):\n",
    "    print(f\"{i} {reactant.bond_mats[0][count_i]}\")"
   ]
  },
  {
   "cell_type": "markdown",
   "id": "1a6874b3-c4b1-4fcb-bb97-d8c5cbee82df",
   "metadata": {},
   "source": [
    "Next step is to break bonds. In this case, we will break two bonds. Why? Hint: think about closed shell compounds."
   ]
  },
  {
   "cell_type": "code",
   "execution_count": 4,
   "id": "6b05f14c-309f-4b58-a91c-a9e130e00a7d",
   "metadata": {},
   "outputs": [
    {
     "name": "stdout",
     "output_type": "stream",
     "text": [
      "We have 41 reaction intermediates with breaking 2 bonds.\n"
     ]
    }
   ],
   "source": [
    "break_mols=list(yp.break_bonds(reactant, n=2))\n",
    "print(f\"We have {len(break_mols)} reaction intermediates with breaking 2 bonds.\")"
   ]
  },
  {
   "cell_type": "markdown",
   "id": "4f3de92a-1d65-42bb-ba7f-63f100e24d5d",
   "metadata": {},
   "source": [
    "break_mols is a list of yarpecule class. In this case, we have 41 break-two-bonds molecules from n-hexane. Next step is to form bonds from these 41 molecules."
   ]
  },
  {
   "cell_type": "code",
   "execution_count": 14,
   "id": "74ad8519-cbcf-4abe-991c-7468afb977b7",
   "metadata": {},
   "outputs": [
    {
     "name": "stdout",
     "output_type": "stream",
     "text": [
      "We have 7 products from n-hexane.\n"
     ]
    }
   ],
   "source": [
    "import numpy as np\n",
    "products=yp.form_bonds(break_mols)\n",
    "products=[_ for _ in products if _.bond_mat_scores[0]<=0.0 and sum(np.abs(_.fc))<=2.0]\n",
    "# Question: what's the purpose of this line?\n",
    "print(f\"We have {len(products)} products from n-hexane.\")"
   ]
  },
  {
   "cell_type": "code",
   "execution_count": 16,
   "id": "36948609-07e4-4ae8-8af8-6220cf07f9cb",
   "metadata": {},
   "outputs": [
    {
     "ename": "AttributeError",
     "evalue": "'Image' object has no attribute 'save'",
     "output_type": "error",
     "traceback": [
      "\u001b[0;31m---------------------------------------------------------------------------\u001b[0m",
      "\u001b[0;31mAttributeError\u001b[0m                            Traceback (most recent call last)",
      "Cell \u001b[0;32mIn[16], line 1\u001b[0m\n\u001b[0;32m----> 1\u001b[0m \u001b[43myp\u001b[49m\u001b[38;5;241;43m.\u001b[39;49m\u001b[43mdraw_yarpecules\u001b[49m\u001b[43m(\u001b[49m\u001b[43mproducts\u001b[49m\u001b[43m,\u001b[49m\u001b[43m \u001b[49m\u001b[38;5;124;43m\"\u001b[39;49m\u001b[38;5;124;43mn-hexane.pdf\u001b[39;49m\u001b[38;5;124;43m\"\u001b[39;49m\u001b[43m,\u001b[49m\u001b[43m \u001b[49m\u001b[43mlabel_ind\u001b[49m\u001b[38;5;241;43m=\u001b[39;49m\u001b[38;5;28;43;01mTrue\u001b[39;49;00m\u001b[43m,\u001b[49m\u001b[43m \u001b[49m\u001b[43mmol_labels\u001b[49m\u001b[38;5;241;43m=\u001b[39;49m\u001b[43m[\u001b[49m\u001b[38;5;124;43mf\u001b[39;49m\u001b[38;5;124;43m\"\u001b[39;49m\u001b[38;5;124;43mscore \u001b[39;49m\u001b[38;5;132;43;01m{\u001b[39;49;00m\u001b[43m_\u001b[49m\u001b[38;5;241;43m.\u001b[39;49m\u001b[43mbond_mat_scores\u001b[49m\u001b[43m[\u001b[49m\u001b[38;5;241;43m0\u001b[39;49m\u001b[43m]\u001b[49m\u001b[38;5;132;43;01m}\u001b[39;49;00m\u001b[38;5;124;43m\"\u001b[39;49m\u001b[43m \u001b[49m\u001b[38;5;28;43;01mfor\u001b[39;49;00m\u001b[43m \u001b[49m\u001b[43m_\u001b[49m\u001b[43m \u001b[49m\u001b[38;5;129;43;01min\u001b[39;49;00m\u001b[43m \u001b[49m\u001b[43mproducts\u001b[49m\u001b[43m]\u001b[49m\u001b[43m)\u001b[49m\n",
      "File \u001b[0;32m~/github/classy-yarp/yarp/yarpecule.py:390\u001b[0m, in \u001b[0;36mdraw_yarpecules\u001b[0;34m(yarpecules, name, label_ind, mol_labels)\u001b[0m\n\u001b[1;32m    388\u001b[0m \u001b[38;5;28;01melse\u001b[39;00m:\n\u001b[1;32m    389\u001b[0m     img \u001b[38;5;241m=\u001b[39m Draw\u001b[38;5;241m.\u001b[39mMolsToGridImage(mols,subImgSize\u001b[38;5;241m=\u001b[39m(\u001b[38;5;241m400\u001b[39m, \u001b[38;5;241m400\u001b[39m),molsPerRow\u001b[38;5;241m=\u001b[39mn_per_row)        \n\u001b[0;32m--> 390\u001b[0m \u001b[43mimg\u001b[49m\u001b[38;5;241;43m.\u001b[39;49m\u001b[43msave\u001b[49m(name)\n\u001b[1;32m    391\u001b[0m \u001b[38;5;28;01mreturn\u001b[39;00m\n",
      "\u001b[0;31mAttributeError\u001b[0m: 'Image' object has no attribute 'save'"
     ]
    }
   ],
   "source": [
    "yp.draw_yarpecules(products, \"n-hexane.pdf\", label_ind=True, mol_labels=[f\"score {_.bond_mat_scores[0]}\" for _ in products])"
   ]
  },
  {
   "cell_type": "code",
   "execution_count": null,
   "id": "87cb7b96-07b4-4209-90bc-91c98a79c223",
   "metadata": {},
   "outputs": [],
   "source": []
  }
 ],
 "metadata": {
  "kernelspec": {
   "display_name": "Python 3 (ipykernel)",
   "language": "python",
   "name": "python3"
  },
  "language_info": {
   "codemirror_mode": {
    "name": "ipython",
    "version": 3
   },
   "file_extension": ".py",
   "mimetype": "text/x-python",
   "name": "python",
   "nbconvert_exporter": "python",
   "pygments_lexer": "ipython3",
   "version": "3.8.15"
  }
 },
 "nbformat": 4,
 "nbformat_minor": 5
}
